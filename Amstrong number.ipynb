{
 "cells": [
  {
   "cell_type": "code",
   "execution_count": null,
   "metadata": {},
   "outputs": [],
   "source": [
    "def power(x,y):\n",
    "    if y==0:\n",
    "        return 1\n",
    "    if y%2==0:\n",
    "        return power(x,y/2) * power(x,y/2)\n",
    "    return x*power(x,y/2) * power(x,y/2)\n",
    "def order(x):\n",
    "    n = 0\n",
    "    while(x!=0):\n",
    "        n = n+1\n",
    "        x = x /10;\n",
    "    return n\n",
    "def is_amstrong(x):\n",
    "    n = order(x)\n",
    "    temp = x\n",
    "    sum = 0\n",
    "    while(temp!=0):\n",
    "        r = temp%10\n",
    "        sum = sum + power(r,n)\n",
    "        temp = temp/10\n",
    "    return (sum==x)"
   ]
  },
  {
   "cell_type": "code",
   "execution_count": 5,
   "metadata": {},
   "outputs": [],
   "source": []
  },
  {
   "cell_type": "code",
   "execution_count": 7,
   "metadata": {},
   "outputs": [],
   "source": []
  },
  {
   "cell_type": "code",
   "execution_count": null,
   "metadata": {},
   "outputs": [],
   "source": [
    "x = 153\n"
   ]
  },
  {
   "cell_type": "code",
   "execution_count": null,
   "metadata": {},
   "outputs": [],
   "source": [
    "x = 153\n"
   ]
  },
  {
   "cell_type": "code",
   "execution_count": null,
   "metadata": {},
   "outputs": [],
   "source": [
    "x"
   ]
  },
  {
   "cell_type": "code",
   "execution_count": null,
   "metadata": {},
   "outputs": [],
   "source": []
  }
 ],
 "metadata": {
  "kernelspec": {
   "display_name": "Python 3",
   "language": "python",
   "name": "python3"
  },
  "language_info": {
   "codemirror_mode": {
    "name": "ipython",
    "version": 3
   },
   "file_extension": ".py",
   "mimetype": "text/x-python",
   "name": "python",
   "nbconvert_exporter": "python",
   "pygments_lexer": "ipython3",
   "version": "3.7.3"
  }
 },
 "nbformat": 4,
 "nbformat_minor": 2
}
